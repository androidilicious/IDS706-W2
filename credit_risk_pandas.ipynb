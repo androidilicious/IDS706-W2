{
  "cells": [
    {
      "cell_type": "markdown",
      "metadata": {},
      "source": [
        "# Credit Risk Analysis - Week 2 Mini Assignment\n",
        "\n",
        "**Student**: Diwas Puri  \n",
        "**Dataset**: Credit Risk Dataset  \n",
        "**Algorithm**: Random Forest Classifier  \n",
        "\n",
        "This analysis covers all Week 2 requirements:\n",
        "1. Import Dataset\n",
        "2. Inspect Data\n",
        "3. Basic Filtering and Grouping\n",
        "4. Machine Learning Algorithm Exploration\n",
        "5. Visualization\n",
        "\n",
        "#### Disclosure\n",
        "\n",
        "Because of the author's lack of knowledge on Machine Learning algorithms, Claude Sonnet 4.0 was used to generate the relavent code snippets.\n",
        "\n",
        "---"
      ]
    },
    {
      "cell_type": "code",
      "execution_count": 1,
      "metadata": {},
      "outputs": [
        {
          "name": "stdout",
          "output_type": "stream",
          "text": [
            "Libraries imported successfully!\n"
          ]
        }
      ],
      "source": [
        "# Import required libraries\n",
        "import pandas as pd\n",
        "import numpy as np\n",
        "import matplotlib.pyplot as plt\n",
        "import seaborn as sns\n",
        "from sklearn.model_selection import train_test_split\n",
        "from sklearn.ensemble import RandomForestClassifier\n",
        "from sklearn.metrics import accuracy_score\n",
        "from sklearn.preprocessing import LabelEncoder\n",
        "\n",
        "# Set style for plots\n",
        "plt.style.use('seaborn-v0_8')\n",
        "sns.set_palette(\"husl\")\n",
        "\n",
        "print(\"Libraries imported successfully!\")"
      ]
    },
    {
      "cell_type": "markdown",
      "metadata": {},
      "source": [
        "## 1. Import Dataset\n",
        "\n",
        "Loading the credit risk dataset containing loan applications and their default status."
      ]
    },
    {
      "cell_type": "code",
      "execution_count": 2,
      "metadata": {},
      "outputs": [
        {
          "name": "stdout",
          "output_type": "stream",
          "text": [
            "Dataset loaded successfully!\n",
            "Shape: (32581, 12)\n",
            "Columns: ['person_age', 'person_income', 'person_home_ownership', 'person_emp_length', 'loan_intent', 'loan_grade', 'loan_amnt', 'loan_int_rate', 'loan_status', 'loan_percent_income', 'cb_person_default_on_file', 'cb_person_cred_hist_length']\n"
          ]
        }
      ],
      "source": [
        "# Load the dataset\n",
        "df = pd.read_csv('data/credit_risk_dataset.csv')\n",
        "\n",
        "print(\"Dataset loaded successfully!\")\n",
        "print(f\"Shape: {df.shape}\")\n",
        "print(f\"Columns: {list(df.columns)}\")"
      ]
    },
    {
      "cell_type": "markdown",
      "metadata": {},
      "source": [
        "## 2. Inspect the Data\n",
        "\n",
        "Understanding the structure, types, and basic statistics of our dataset."
      ]
    },
    {
      "cell_type": "code",
      "execution_count": 3,
      "metadata": {},
      "outputs": [
        {
          "name": "stdout",
          "output_type": "stream",
          "text": [
            "First 5 rows:\n"
          ]
        },
        {
          "data": {
            "application/vnd.microsoft.datawrangler.viewer.v0+json": {
              "columns": [
                {
                  "name": "index",
                  "rawType": "int64",
                  "type": "integer"
                },
                {
                  "name": "person_age",
                  "rawType": "int64",
                  "type": "integer"
                },
                {
                  "name": "person_income",
                  "rawType": "int64",
                  "type": "integer"
                },
                {
                  "name": "person_home_ownership",
                  "rawType": "object",
                  "type": "string"
                },
                {
                  "name": "person_emp_length",
                  "rawType": "float64",
                  "type": "float"
                },
                {
                  "name": "loan_intent",
                  "rawType": "object",
                  "type": "string"
                },
                {
                  "name": "loan_grade",
                  "rawType": "object",
                  "type": "string"
                },
                {
                  "name": "loan_amnt",
                  "rawType": "int64",
                  "type": "integer"
                },
                {
                  "name": "loan_int_rate",
                  "rawType": "float64",
                  "type": "float"
                },
                {
                  "name": "loan_status",
                  "rawType": "int64",
                  "type": "integer"
                },
                {
                  "name": "loan_percent_income",
                  "rawType": "float64",
                  "type": "float"
                },
                {
                  "name": "cb_person_default_on_file",
                  "rawType": "object",
                  "type": "string"
                },
                {
                  "name": "cb_person_cred_hist_length",
                  "rawType": "int64",
                  "type": "integer"
                }
              ],
              "ref": "f75adf8d-581d-41bb-b138-8c5b25c1f71a",
              "rows": [
                [
                  "0",
                  "22",
                  "59000",
                  "RENT",
                  "123.0",
                  "PERSONAL",
                  "D",
                  "35000",
                  "16.02",
                  "1",
                  "0.59",
                  "Y",
                  "3"
                ],
                [
                  "1",
                  "21",
                  "9600",
                  "OWN",
                  "5.0",
                  "EDUCATION",
                  "B",
                  "1000",
                  "11.14",
                  "0",
                  "0.1",
                  "N",
                  "2"
                ],
                [
                  "2",
                  "25",
                  "9600",
                  "MORTGAGE",
                  "1.0",
                  "MEDICAL",
                  "C",
                  "5500",
                  "12.87",
                  "1",
                  "0.57",
                  "N",
                  "3"
                ],
                [
                  "3",
                  "23",
                  "65500",
                  "RENT",
                  "4.0",
                  "MEDICAL",
                  "C",
                  "35000",
                  "15.23",
                  "1",
                  "0.53",
                  "N",
                  "2"
                ],
                [
                  "4",
                  "24",
                  "54400",
                  "RENT",
                  "8.0",
                  "MEDICAL",
                  "C",
                  "35000",
                  "14.27",
                  "1",
                  "0.55",
                  "Y",
                  "4"
                ]
              ],
              "shape": {
                "columns": 12,
                "rows": 5
              }
            },
            "text/html": [
              "<div>\n",
              "<style scoped>\n",
              "    .dataframe tbody tr th:only-of-type {\n",
              "        vertical-align: middle;\n",
              "    }\n",
              "\n",
              "    .dataframe tbody tr th {\n",
              "        vertical-align: top;\n",
              "    }\n",
              "\n",
              "    .dataframe thead th {\n",
              "        text-align: right;\n",
              "    }\n",
              "</style>\n",
              "<table border=\"1\" class=\"dataframe\">\n",
              "  <thead>\n",
              "    <tr style=\"text-align: right;\">\n",
              "      <th></th>\n",
              "      <th>person_age</th>\n",
              "      <th>person_income</th>\n",
              "      <th>person_home_ownership</th>\n",
              "      <th>person_emp_length</th>\n",
              "      <th>loan_intent</th>\n",
              "      <th>loan_grade</th>\n",
              "      <th>loan_amnt</th>\n",
              "      <th>loan_int_rate</th>\n",
              "      <th>loan_status</th>\n",
              "      <th>loan_percent_income</th>\n",
              "      <th>cb_person_default_on_file</th>\n",
              "      <th>cb_person_cred_hist_length</th>\n",
              "    </tr>\n",
              "  </thead>\n",
              "  <tbody>\n",
              "    <tr>\n",
              "      <th>0</th>\n",
              "      <td>22</td>\n",
              "      <td>59000</td>\n",
              "      <td>RENT</td>\n",
              "      <td>123.0</td>\n",
              "      <td>PERSONAL</td>\n",
              "      <td>D</td>\n",
              "      <td>35000</td>\n",
              "      <td>16.02</td>\n",
              "      <td>1</td>\n",
              "      <td>0.59</td>\n",
              "      <td>Y</td>\n",
              "      <td>3</td>\n",
              "    </tr>\n",
              "    <tr>\n",
              "      <th>1</th>\n",
              "      <td>21</td>\n",
              "      <td>9600</td>\n",
              "      <td>OWN</td>\n",
              "      <td>5.0</td>\n",
              "      <td>EDUCATION</td>\n",
              "      <td>B</td>\n",
              "      <td>1000</td>\n",
              "      <td>11.14</td>\n",
              "      <td>0</td>\n",
              "      <td>0.10</td>\n",
              "      <td>N</td>\n",
              "      <td>2</td>\n",
              "    </tr>\n",
              "    <tr>\n",
              "      <th>2</th>\n",
              "      <td>25</td>\n",
              "      <td>9600</td>\n",
              "      <td>MORTGAGE</td>\n",
              "      <td>1.0</td>\n",
              "      <td>MEDICAL</td>\n",
              "      <td>C</td>\n",
              "      <td>5500</td>\n",
              "      <td>12.87</td>\n",
              "      <td>1</td>\n",
              "      <td>0.57</td>\n",
              "      <td>N</td>\n",
              "      <td>3</td>\n",
              "    </tr>\n",
              "    <tr>\n",
              "      <th>3</th>\n",
              "      <td>23</td>\n",
              "      <td>65500</td>\n",
              "      <td>RENT</td>\n",
              "      <td>4.0</td>\n",
              "      <td>MEDICAL</td>\n",
              "      <td>C</td>\n",
              "      <td>35000</td>\n",
              "      <td>15.23</td>\n",
              "      <td>1</td>\n",
              "      <td>0.53</td>\n",
              "      <td>N</td>\n",
              "      <td>2</td>\n",
              "    </tr>\n",
              "    <tr>\n",
              "      <th>4</th>\n",
              "      <td>24</td>\n",
              "      <td>54400</td>\n",
              "      <td>RENT</td>\n",
              "      <td>8.0</td>\n",
              "      <td>MEDICAL</td>\n",
              "      <td>C</td>\n",
              "      <td>35000</td>\n",
              "      <td>14.27</td>\n",
              "      <td>1</td>\n",
              "      <td>0.55</td>\n",
              "      <td>Y</td>\n",
              "      <td>4</td>\n",
              "    </tr>\n",
              "  </tbody>\n",
              "</table>\n",
              "</div>"
            ],
            "text/plain": [
              "   person_age  person_income person_home_ownership  person_emp_length  \\\n",
              "0          22          59000                  RENT              123.0   \n",
              "1          21           9600                   OWN                5.0   \n",
              "2          25           9600              MORTGAGE                1.0   \n",
              "3          23          65500                  RENT                4.0   \n",
              "4          24          54400                  RENT                8.0   \n",
              "\n",
              "  loan_intent loan_grade  loan_amnt  loan_int_rate  loan_status  \\\n",
              "0    PERSONAL          D      35000          16.02            1   \n",
              "1   EDUCATION          B       1000          11.14            0   \n",
              "2     MEDICAL          C       5500          12.87            1   \n",
              "3     MEDICAL          C      35000          15.23            1   \n",
              "4     MEDICAL          C      35000          14.27            1   \n",
              "\n",
              "   loan_percent_income cb_person_default_on_file  cb_person_cred_hist_length  \n",
              "0                 0.59                         Y                           3  \n",
              "1                 0.10                         N                           2  \n",
              "2                 0.57                         N                           3  \n",
              "3                 0.53                         N                           2  \n",
              "4                 0.55                         Y                           4  "
            ]
          },
          "execution_count": 3,
          "metadata": {},
          "output_type": "execute_result"
        }
      ],
      "source": [
        "# Display first 5 rows\n",
        "print(\"First 5 rows:\")\n",
        "df.head()"
      ]
    },
    {
      "cell_type": "code",
      "execution_count": 4,
      "metadata": {},
      "outputs": [
        {
          "name": "stdout",
          "output_type": "stream",
          "text": [
            "Dataset Info:\n",
            "<class 'pandas.core.frame.DataFrame'>\n",
            "RangeIndex: 32581 entries, 0 to 32580\n",
            "Data columns (total 12 columns):\n",
            " #   Column                      Non-Null Count  Dtype  \n",
            "---  ------                      --------------  -----  \n",
            " 0   person_age                  32581 non-null  int64  \n",
            " 1   person_income               32581 non-null  int64  \n",
            " 2   person_home_ownership       32581 non-null  object \n",
            " 3   person_emp_length           31686 non-null  float64\n",
            " 4   loan_intent                 32581 non-null  object \n",
            " 5   loan_grade                  32581 non-null  object \n",
            " 6   loan_amnt                   32581 non-null  int64  \n",
            " 7   loan_int_rate               29465 non-null  float64\n",
            " 8   loan_status                 32581 non-null  int64  \n",
            " 9   loan_percent_income         32581 non-null  float64\n",
            " 10  cb_person_default_on_file   32581 non-null  object \n",
            " 11  cb_person_cred_hist_length  32581 non-null  int64  \n",
            "dtypes: float64(3), int64(5), object(4)\n",
            "memory usage: 3.0+ MB\n",
            "\n",
            "Summary Statistics:\n"
          ]
        },
        {
          "data": {
            "application/vnd.microsoft.datawrangler.viewer.v0+json": {
              "columns": [
                {
                  "name": "index",
                  "rawType": "object",
                  "type": "string"
                },
                {
                  "name": "person_age",
                  "rawType": "float64",
                  "type": "float"
                },
                {
                  "name": "person_income",
                  "rawType": "float64",
                  "type": "float"
                },
                {
                  "name": "person_emp_length",
                  "rawType": "float64",
                  "type": "float"
                },
                {
                  "name": "loan_amnt",
                  "rawType": "float64",
                  "type": "float"
                },
                {
                  "name": "loan_int_rate",
                  "rawType": "float64",
                  "type": "float"
                },
                {
                  "name": "loan_status",
                  "rawType": "float64",
                  "type": "float"
                },
                {
                  "name": "loan_percent_income",
                  "rawType": "float64",
                  "type": "float"
                },
                {
                  "name": "cb_person_cred_hist_length",
                  "rawType": "float64",
                  "type": "float"
                }
              ],
              "ref": "31b4c554-8d3a-43a7-b72f-41994b93cc1e",
              "rows": [
                [
                  "count",
                  "32581.0",
                  "32581.0",
                  "31686.0",
                  "32581.0",
                  "29465.0",
                  "32581.0",
                  "32581.0",
                  "32581.0"
                ],
                [
                  "mean",
                  "27.73459992019889",
                  "66074.84846996715",
                  "4.789686296787225",
                  "9589.371105859243",
                  "11.011694892245037",
                  "0.21816396059052823",
                  "0.17020349283324637",
                  "5.804211043246064"
                ],
                [
                  "std",
                  "6.34807841922536",
                  "61983.11916815908",
                  "4.1426301488878625",
                  "6322.086645792259",
                  "3.2404594649559466",
                  "0.4130056685601487",
                  "0.10678175634492382",
                  "4.055001164712727"
                ],
                [
                  "min",
                  "20.0",
                  "4000.0",
                  "0.0",
                  "500.0",
                  "5.42",
                  "0.0",
                  "0.0",
                  "2.0"
                ],
                [
                  "25%",
                  "23.0",
                  "38500.0",
                  "2.0",
                  "5000.0",
                  "7.9",
                  "0.0",
                  "0.09",
                  "3.0"
                ],
                [
                  "50%",
                  "26.0",
                  "55000.0",
                  "4.0",
                  "8000.0",
                  "10.99",
                  "0.0",
                  "0.15",
                  "4.0"
                ],
                [
                  "75%",
                  "30.0",
                  "79200.0",
                  "7.0",
                  "12200.0",
                  "13.47",
                  "0.0",
                  "0.23",
                  "8.0"
                ],
                [
                  "max",
                  "144.0",
                  "6000000.0",
                  "123.0",
                  "35000.0",
                  "23.22",
                  "1.0",
                  "0.83",
                  "30.0"
                ]
              ],
              "shape": {
                "columns": 8,
                "rows": 8
              }
            },
            "text/html": [
              "<div>\n",
              "<style scoped>\n",
              "    .dataframe tbody tr th:only-of-type {\n",
              "        vertical-align: middle;\n",
              "    }\n",
              "\n",
              "    .dataframe tbody tr th {\n",
              "        vertical-align: top;\n",
              "    }\n",
              "\n",
              "    .dataframe thead th {\n",
              "        text-align: right;\n",
              "    }\n",
              "</style>\n",
              "<table border=\"1\" class=\"dataframe\">\n",
              "  <thead>\n",
              "    <tr style=\"text-align: right;\">\n",
              "      <th></th>\n",
              "      <th>person_age</th>\n",
              "      <th>person_income</th>\n",
              "      <th>person_emp_length</th>\n",
              "      <th>loan_amnt</th>\n",
              "      <th>loan_int_rate</th>\n",
              "      <th>loan_status</th>\n",
              "      <th>loan_percent_income</th>\n",
              "      <th>cb_person_cred_hist_length</th>\n",
              "    </tr>\n",
              "  </thead>\n",
              "  <tbody>\n",
              "    <tr>\n",
              "      <th>count</th>\n",
              "      <td>32581.000000</td>\n",
              "      <td>3.258100e+04</td>\n",
              "      <td>31686.000000</td>\n",
              "      <td>32581.000000</td>\n",
              "      <td>29465.000000</td>\n",
              "      <td>32581.000000</td>\n",
              "      <td>32581.000000</td>\n",
              "      <td>32581.000000</td>\n",
              "    </tr>\n",
              "    <tr>\n",
              "      <th>mean</th>\n",
              "      <td>27.734600</td>\n",
              "      <td>6.607485e+04</td>\n",
              "      <td>4.789686</td>\n",
              "      <td>9589.371106</td>\n",
              "      <td>11.011695</td>\n",
              "      <td>0.218164</td>\n",
              "      <td>0.170203</td>\n",
              "      <td>5.804211</td>\n",
              "    </tr>\n",
              "    <tr>\n",
              "      <th>std</th>\n",
              "      <td>6.348078</td>\n",
              "      <td>6.198312e+04</td>\n",
              "      <td>4.142630</td>\n",
              "      <td>6322.086646</td>\n",
              "      <td>3.240459</td>\n",
              "      <td>0.413006</td>\n",
              "      <td>0.106782</td>\n",
              "      <td>4.055001</td>\n",
              "    </tr>\n",
              "    <tr>\n",
              "      <th>min</th>\n",
              "      <td>20.000000</td>\n",
              "      <td>4.000000e+03</td>\n",
              "      <td>0.000000</td>\n",
              "      <td>500.000000</td>\n",
              "      <td>5.420000</td>\n",
              "      <td>0.000000</td>\n",
              "      <td>0.000000</td>\n",
              "      <td>2.000000</td>\n",
              "    </tr>\n",
              "    <tr>\n",
              "      <th>25%</th>\n",
              "      <td>23.000000</td>\n",
              "      <td>3.850000e+04</td>\n",
              "      <td>2.000000</td>\n",
              "      <td>5000.000000</td>\n",
              "      <td>7.900000</td>\n",
              "      <td>0.000000</td>\n",
              "      <td>0.090000</td>\n",
              "      <td>3.000000</td>\n",
              "    </tr>\n",
              "    <tr>\n",
              "      <th>50%</th>\n",
              "      <td>26.000000</td>\n",
              "      <td>5.500000e+04</td>\n",
              "      <td>4.000000</td>\n",
              "      <td>8000.000000</td>\n",
              "      <td>10.990000</td>\n",
              "      <td>0.000000</td>\n",
              "      <td>0.150000</td>\n",
              "      <td>4.000000</td>\n",
              "    </tr>\n",
              "    <tr>\n",
              "      <th>75%</th>\n",
              "      <td>30.000000</td>\n",
              "      <td>7.920000e+04</td>\n",
              "      <td>7.000000</td>\n",
              "      <td>12200.000000</td>\n",
              "      <td>13.470000</td>\n",
              "      <td>0.000000</td>\n",
              "      <td>0.230000</td>\n",
              "      <td>8.000000</td>\n",
              "    </tr>\n",
              "    <tr>\n",
              "      <th>max</th>\n",
              "      <td>144.000000</td>\n",
              "      <td>6.000000e+06</td>\n",
              "      <td>123.000000</td>\n",
              "      <td>35000.000000</td>\n",
              "      <td>23.220000</td>\n",
              "      <td>1.000000</td>\n",
              "      <td>0.830000</td>\n",
              "      <td>30.000000</td>\n",
              "    </tr>\n",
              "  </tbody>\n",
              "</table>\n",
              "</div>"
            ],
            "text/plain": [
              "         person_age  person_income  person_emp_length     loan_amnt  \\\n",
              "count  32581.000000   3.258100e+04       31686.000000  32581.000000   \n",
              "mean      27.734600   6.607485e+04           4.789686   9589.371106   \n",
              "std        6.348078   6.198312e+04           4.142630   6322.086646   \n",
              "min       20.000000   4.000000e+03           0.000000    500.000000   \n",
              "25%       23.000000   3.850000e+04           2.000000   5000.000000   \n",
              "50%       26.000000   5.500000e+04           4.000000   8000.000000   \n",
              "75%       30.000000   7.920000e+04           7.000000  12200.000000   \n",
              "max      144.000000   6.000000e+06         123.000000  35000.000000   \n",
              "\n",
              "       loan_int_rate   loan_status  loan_percent_income  \\\n",
              "count   29465.000000  32581.000000         32581.000000   \n",
              "mean       11.011695      0.218164             0.170203   \n",
              "std         3.240459      0.413006             0.106782   \n",
              "min         5.420000      0.000000             0.000000   \n",
              "25%         7.900000      0.000000             0.090000   \n",
              "50%        10.990000      0.000000             0.150000   \n",
              "75%        13.470000      0.000000             0.230000   \n",
              "max        23.220000      1.000000             0.830000   \n",
              "\n",
              "       cb_person_cred_hist_length  \n",
              "count                32581.000000  \n",
              "mean                     5.804211  \n",
              "std                      4.055001  \n",
              "min                      2.000000  \n",
              "25%                      3.000000  \n",
              "50%                      4.000000  \n",
              "75%                      8.000000  \n",
              "max                     30.000000  "
            ]
          },
          "execution_count": 4,
          "metadata": {},
          "output_type": "execute_result"
        }
      ],
      "source": [
        "# Basic dataset information\n",
        "print(\"Dataset Info:\")\n",
        "df.info()\n",
        "\n",
        "print(\"\\nSummary Statistics:\")\n",
        "df.describe()"
      ]
    },
    {
      "cell_type": "code",
      "execution_count": 5,
      "metadata": {},
      "outputs": [
        {
          "name": "stdout",
          "output_type": "stream",
          "text": [
            "Missing Values:\n",
            "person_emp_length     895\n",
            "loan_int_rate        3116\n",
            "dtype: int64\n",
            "\n",
            "Target Variable (loan_status) Distribution:\n",
            "loan_status\n",
            "0    25473\n",
            "1     7108\n",
            "Name: count, dtype: int64\n",
            "Default rate: 21.82%\n"
          ]
        }
      ],
      "source": [
        "# Check for missing values and target distribution\n",
        "print(\"Missing Values:\")\n",
        "missing_vals = df.isnull().sum()\n",
        "print(missing_vals[missing_vals > 0])\n",
        "\n",
        "print(\"\\nTarget Variable (loan_status) Distribution:\")\n",
        "print(df['loan_status'].value_counts())\n",
        "print(f\"Default rate: {df['loan_status'].mean():.2%}\")"
      ]
    },
    {
      "cell_type": "markdown",
      "metadata": {},
      "source": [
        "## 3. Basic Filtering and Grouping\n",
        "\n",
        "Applying filters to extract meaningful subsets and using groupby for analysis."
      ]
    },
    {
      "cell_type": "code",
      "execution_count": 6,
      "metadata": {},
      "outputs": [
        {
          "name": "stdout",
          "output_type": "stream",
          "text": [
            "High-risk loans (>15% interest): 3,441 (10.6%)\n",
            "Default rate for high-risk loans: 58.01%\n",
            "\n",
            "Young borrowers (<25): 12,315 (37.8%)\n",
            "Default rate for young borrowers: 23.22%\n"
          ]
        }
      ],
      "source": [
        "# Filter 1: High-risk loans (interest rate > 15%)\n",
        "high_risk_loans = df[df['loan_int_rate'] > 15]\n",
        "print(f\"High-risk loans (>15% interest): {len(high_risk_loans):,} ({len(high_risk_loans)/len(df):.1%})\")\n",
        "print(f\"Default rate for high-risk loans: {high_risk_loans['loan_status'].mean():.2%}\")\n",
        "\n",
        "# Filter 2: Young borrowers (age < 25)\n",
        "young_borrowers = df[df['person_age'] < 25]\n",
        "print(f\"\\nYoung borrowers (<25): {len(young_borrowers):,} ({len(young_borrowers)/len(df):.1%})\")\n",
        "print(f\"Default rate for young borrowers: {young_borrowers['loan_status'].mean():.2%}\")"
      ]
    },
    {
      "cell_type": "code",
      "execution_count": 7,
      "metadata": {},
      "outputs": [
        {
          "name": "stdout",
          "output_type": "stream",
          "text": [
            "Analysis by Loan Grade:\n"
          ]
        },
        {
          "data": {
            "application/vnd.microsoft.datawrangler.viewer.v0+json": {
              "columns": [
                {
                  "name": "loan_grade",
                  "rawType": "object",
                  "type": "string"
                },
                {
                  "name": "Total_Loans",
                  "rawType": "int64",
                  "type": "integer"
                },
                {
                  "name": "Default_Rate",
                  "rawType": "float64",
                  "type": "float"
                },
                {
                  "name": "Avg_Interest_Rate",
                  "rawType": "float64",
                  "type": "float"
                },
                {
                  "name": "Avg_Loan_Amount",
                  "rawType": "float64",
                  "type": "float"
                }
              ],
              "ref": "0dfcf5ac-7ac6-496e-9e93-435f6863bba2",
              "rows": [
                [
                  "A",
                  "10777",
                  "0.1",
                  "7.328",
                  "8539.273"
                ],
                [
                  "B",
                  "10451",
                  "0.163",
                  "10.996",
                  "9995.484"
                ],
                [
                  "C",
                  "6458",
                  "0.207",
                  "13.464",
                  "9213.863"
                ],
                [
                  "D",
                  "3626",
                  "0.59",
                  "15.361",
                  "10849.242"
                ],
                [
                  "E",
                  "964",
                  "0.644",
                  "17.009",
                  "12915.845"
                ],
                [
                  "F",
                  "241",
                  "0.705",
                  "18.609",
                  "14717.324"
                ],
                [
                  "G",
                  "64",
                  "0.984",
                  "20.252",
                  "17195.703"
                ]
              ],
              "shape": {
                "columns": 4,
                "rows": 7
              }
            },
            "text/html": [
              "<div>\n",
              "<style scoped>\n",
              "    .dataframe tbody tr th:only-of-type {\n",
              "        vertical-align: middle;\n",
              "    }\n",
              "\n",
              "    .dataframe tbody tr th {\n",
              "        vertical-align: top;\n",
              "    }\n",
              "\n",
              "    .dataframe thead th {\n",
              "        text-align: right;\n",
              "    }\n",
              "</style>\n",
              "<table border=\"1\" class=\"dataframe\">\n",
              "  <thead>\n",
              "    <tr style=\"text-align: right;\">\n",
              "      <th></th>\n",
              "      <th>Total_Loans</th>\n",
              "      <th>Default_Rate</th>\n",
              "      <th>Avg_Interest_Rate</th>\n",
              "      <th>Avg_Loan_Amount</th>\n",
              "    </tr>\n",
              "    <tr>\n",
              "      <th>loan_grade</th>\n",
              "      <th></th>\n",
              "      <th></th>\n",
              "      <th></th>\n",
              "      <th></th>\n",
              "    </tr>\n",
              "  </thead>\n",
              "  <tbody>\n",
              "    <tr>\n",
              "      <th>A</th>\n",
              "      <td>10777</td>\n",
              "      <td>0.100</td>\n",
              "      <td>7.328</td>\n",
              "      <td>8539.273</td>\n",
              "    </tr>\n",
              "    <tr>\n",
              "      <th>B</th>\n",
              "      <td>10451</td>\n",
              "      <td>0.163</td>\n",
              "      <td>10.996</td>\n",
              "      <td>9995.484</td>\n",
              "    </tr>\n",
              "    <tr>\n",
              "      <th>C</th>\n",
              "      <td>6458</td>\n",
              "      <td>0.207</td>\n",
              "      <td>13.464</td>\n",
              "      <td>9213.863</td>\n",
              "    </tr>\n",
              "    <tr>\n",
              "      <th>D</th>\n",
              "      <td>3626</td>\n",
              "      <td>0.590</td>\n",
              "      <td>15.361</td>\n",
              "      <td>10849.242</td>\n",
              "    </tr>\n",
              "    <tr>\n",
              "      <th>E</th>\n",
              "      <td>964</td>\n",
              "      <td>0.644</td>\n",
              "      <td>17.009</td>\n",
              "      <td>12915.845</td>\n",
              "    </tr>\n",
              "    <tr>\n",
              "      <th>F</th>\n",
              "      <td>241</td>\n",
              "      <td>0.705</td>\n",
              "      <td>18.609</td>\n",
              "      <td>14717.324</td>\n",
              "    </tr>\n",
              "    <tr>\n",
              "      <th>G</th>\n",
              "      <td>64</td>\n",
              "      <td>0.984</td>\n",
              "      <td>20.252</td>\n",
              "      <td>17195.703</td>\n",
              "    </tr>\n",
              "  </tbody>\n",
              "</table>\n",
              "</div>"
            ],
            "text/plain": [
              "            Total_Loans  Default_Rate  Avg_Interest_Rate  Avg_Loan_Amount\n",
              "loan_grade                                                               \n",
              "A                 10777         0.100              7.328         8539.273\n",
              "B                 10451         0.163             10.996         9995.484\n",
              "C                  6458         0.207             13.464         9213.863\n",
              "D                  3626         0.590             15.361        10849.242\n",
              "E                   964         0.644             17.009        12915.845\n",
              "F                   241         0.705             18.609        14717.324\n",
              "G                    64         0.984             20.252        17195.703"
            ]
          },
          "execution_count": 7,
          "metadata": {},
          "output_type": "execute_result"
        }
      ],
      "source": [
        "# Grouping analysis by loan grade\n",
        "print(\"Analysis by Loan Grade:\")\n",
        "grade_analysis = df.groupby('loan_grade').agg({\n",
        "    'loan_status': ['count', 'mean'],\n",
        "    'loan_int_rate': 'mean',\n",
        "    'loan_amnt': 'mean'\n",
        "}).round(3)\n",
        "\n",
        "grade_analysis.columns = ['Total_Loans', 'Default_Rate', 'Avg_Interest_Rate', 'Avg_Loan_Amount']\n",
        "grade_analysis"
      ]
    },
    {
      "cell_type": "markdown",
      "metadata": {},
      "source": [
        "## 4. Visualization\n",
        "\n",
        "Creating plots to visualize key patterns in the data."
      ]
    },
    {
      "cell_type": "code",
      "execution_count": 8,
      "metadata": {},
      "outputs": [
        {
          "data": {
            "image/png": "[encoded data removed]",
            "text/plain": [
              "<Figure size 1500x500 with 3 Axes>"
            ]
          },
          "metadata": {},
          "output_type": "display_data"
        }
      ],
      "source": [
        "# Create visualizations\n",
        "plt.figure(figsize=(15, 5))\n",
        "\n",
        "# Plot 1: Loan status distribution\n",
        "plt.subplot(1, 3, 1)\n",
        "df['loan_status'].value_counts().plot(kind='pie', autopct='%1.1f%%', \n",
        "                                     colors=['lightgreen', 'lightcoral'],\n",
        "                                     labels=['No Default', 'Default'])\n",
        "plt.title('Loan Status Distribution')\n",
        "plt.ylabel('')\n",
        "\n",
        "# Plot 2: Default rate by loan grade\n",
        "plt.subplot(1, 3, 2)\n",
        "grade_defaults = df.groupby('loan_grade')['loan_status'].mean()\n",
        "bars = plt.bar(grade_defaults.index, grade_defaults.values, color='skyblue')\n",
        "plt.title('Default Rate by Loan Grade')\n",
        "plt.xlabel('Loan Grade')\n",
        "plt.ylabel('Default Rate')\n",
        "\n",
        "# Add value labels on bars\n",
        "for bar in bars:\n",
        "    height = bar.get_height()\n",
        "    plt.text(bar.get_x() + bar.get_width()/2., height + 0.01,\n",
        "             f'{height:.2f}', ha='center', va='bottom')\n",
        "\n",
        "# Plot 3: Interest rate distribution\n",
        "plt.subplot(1, 3, 3)\n",
        "plt.hist(df['loan_int_rate'].dropna(), bins=20, alpha=0.7, color='green')\n",
        "plt.axvline(df['loan_int_rate'].mean(), color='red', linestyle='--', \n",
        "           label=f'Mean: {df[\"loan_int_rate\"].mean():.2f}%')\n",
        "plt.title('Interest Rate Distribution')\n",
        "plt.xlabel('Interest Rate (%)')\n",
        "plt.ylabel('Frequency')\n",
        "plt.legend()\n",
        "\n",
        "plt.tight_layout()\n",
        "plt.show()"
      ]
    },
    {
      "cell_type": "markdown",
      "metadata": {},
      "source": [
        "## 5. Machine Learning Algorithm Exploration\n",
        "\n",
        "Experimenting with Random Forest classifier to predict loan defaults."
      ]
    },
    {
      "cell_type": "code",
      "execution_count": 9,
      "metadata": {},
      "outputs": [
        {
          "name": "stdout",
          "output_type": "stream",
          "text": [
            "Preparing data for machine learning...\n",
            "Missing values after imputation: 0\n"
          ]
        }
      ],
      "source": [
        "# Prepare data for machine learning\n",
        "print(\"Preparing data for machine learning...\")\n",
        "\n",
        "# Create a copy for ML processing\n",
        "df_ml = df.copy()\n",
        "\n",
        "# Handle missing values\n",
        "df_ml['person_emp_length'] = df_ml['person_emp_length'].fillna(df_ml['person_emp_length'].median())\n",
        "df_ml['loan_int_rate'] = df_ml['loan_int_rate'].fillna(df_ml['loan_int_rate'].median())\n",
        "\n",
        "print(f\"Missing values after imputation: {df_ml.isnull().sum().sum()}\")"
      ]
    },
    {
      "cell_type": "code",
      "execution_count": 10,
      "metadata": {},
      "outputs": [
        {
          "name": "stdout",
          "output_type": "stream",
          "text": [
            "Encoding categorical variables:\n",
            "  person_home_ownership: 4 categories\n",
            "  loan_intent: 6 categories\n",
            "  loan_grade: 7 categories\n",
            "  cb_person_default_on_file: 2 categories\n",
            "\n",
            "Features shape: (32581, 11)\n",
            "Target distribution: [25473  7108]\n"
          ]
        }
      ],
      "source": [
        "# Encode categorical variables\n",
        "categorical_cols = ['person_home_ownership', 'loan_intent', 'loan_grade', 'cb_person_default_on_file']\n",
        "label_encoders = {}\n",
        "\n",
        "print(\"Encoding categorical variables:\")\n",
        "for col in categorical_cols:\n",
        "    le = LabelEncoder()\n",
        "    df_ml[col] = le.fit_transform(df_ml[col])\n",
        "    label_encoders[col] = le\n",
        "    print(f\"  {col}: {len(le.classes_)} categories\")\n",
        "\n",
        "# Prepare features and target\n",
        "X = df_ml.drop('loan_status', axis=1)\n",
        "y = df_ml['loan_status']\n",
        "\n",
        "print(f\"\\nFeatures shape: {X.shape}\")\n",
        "print(f\"Target distribution: {y.value_counts().values}\")"
      ]
    },
    {
      "cell_type": "code",
      "execution_count": 11,
      "metadata": {},
      "outputs": [
        {
          "name": "stdout",
          "output_type": "stream",
          "text": [
            "Training Random Forest model...\n",
            "\n",
            "Model Performance:\n",
            "Accuracy: 0.930\n",
            "\n",
            "Top 5 Most Important Features:\n"
          ]
        },
        {
          "data": {
            "application/vnd.microsoft.datawrangler.viewer.v0+json": {
              "columns": [
                {
                  "name": "index",
                  "rawType": "int64",
                  "type": "integer"
                },
                {
                  "name": "feature",
                  "rawType": "object",
                  "type": "string"
                },
                {
                  "name": "importance",
                  "rawType": "float64",
                  "type": "float"
                }
              ],
              "ref": "7d4ea910-9094-4e81-9204-0c442c2ddea7",
              "rows": [
                [
                  "8",
                  "loan_percent_income",
                  "0.22345723047075372"
                ],
                [
                  "1",
                  "person_income",
                  "0.14750983337911097"
                ],
                [
                  "7",
                  "loan_int_rate",
                  "0.11630116248348284"
                ],
                [
                  "5",
                  "loan_grade",
                  "0.10898614640719202"
                ],
                [
                  "2",
                  "person_home_ownership",
                  "0.10793109191903513"
                ]
              ],
              "shape": {
                "columns": 2,
                "rows": 5
              }
            },
            "text/html": [
              "<div>\n",
              "<style scoped>\n",
              "    .dataframe tbody tr th:only-of-type {\n",
              "        vertical-align: middle;\n",
              "    }\n",
              "\n",
              "    .dataframe tbody tr th {\n",
              "        vertical-align: top;\n",
              "    }\n",
              "\n",
              "    .dataframe thead th {\n",
              "        text-align: right;\n",
              "    }\n",
              "</style>\n",
              "<table border=\"1\" class=\"dataframe\">\n",
              "  <thead>\n",
              "    <tr style=\"text-align: right;\">\n",
              "      <th></th>\n",
              "      <th>feature</th>\n",
              "      <th>importance</th>\n",
              "    </tr>\n",
              "  </thead>\n",
              "  <tbody>\n",
              "    <tr>\n",
              "      <th>8</th>\n",
              "      <td>loan_percent_income</td>\n",
              "      <td>0.223457</td>\n",
              "    </tr>\n",
              "    <tr>\n",
              "      <th>1</th>\n",
              "      <td>person_income</td>\n",
              "      <td>0.147510</td>\n",
              "    </tr>\n",
              "    <tr>\n",
              "      <th>7</th>\n",
              "      <td>loan_int_rate</td>\n",
              "      <td>0.116301</td>\n",
              "    </tr>\n",
              "    <tr>\n",
              "      <th>5</th>\n",
              "      <td>loan_grade</td>\n",
              "      <td>0.108986</td>\n",
              "    </tr>\n",
              "    <tr>\n",
              "      <th>2</th>\n",
              "      <td>person_home_ownership</td>\n",
              "      <td>0.107931</td>\n",
              "    </tr>\n",
              "  </tbody>\n",
              "</table>\n",
              "</div>"
            ],
            "text/plain": [
              "                 feature  importance\n",
              "8    loan_percent_income    0.223457\n",
              "1          person_income    0.147510\n",
              "7          loan_int_rate    0.116301\n",
              "5             loan_grade    0.108986\n",
              "2  person_home_ownership    0.107931"
            ]
          },
          "execution_count": 11,
          "metadata": {},
          "output_type": "execute_result"
        }
      ],
      "source": [
        "# Train Random Forest model\n",
        "print(\"Training Random Forest model...\")\n",
        "\n",
        "# Split the data\n",
        "X_train, X_test, y_train, y_test = train_test_split(X, y, test_size=0.2, \n",
        "                                                    random_state=42, stratify=y)\n",
        "\n",
        "# Train model (simplified for Week 2)\n",
        "rf_model = RandomForestClassifier(n_estimators=50, random_state=42)\n",
        "rf_model.fit(X_train, y_train)\n",
        "\n",
        "# Make predictions\n",
        "y_pred = rf_model.predict(X_test)\n",
        "accuracy = accuracy_score(y_test, y_pred)\n",
        "\n",
        "print(f\"\\nModel Performance:\")\n",
        "print(f\"Accuracy: {accuracy:.3f}\")\n",
        "\n",
        "# Feature importance\n",
        "feature_importance = pd.DataFrame({\n",
        "    'feature': X.columns,\n",
        "    'importance': rf_model.feature_importances_\n",
        "}).sort_values('importance', ascending=False)\n",
        "\n",
        "print(\"\\nTop 5 Most Important Features:\")\n",
        "feature_importance.head()"
      ]
    },
    {
      "cell_type": "markdown",
      "metadata": {},
      "source": [
        "## Summary and Key Findings\n",
        "\n",
        "**Dataset Overview:**\n",
        "- 32,581 loan applications with 21.8% default rate\n",
        "- Key features: age, income, loan amount, interest rate, loan grade\n",
        "\n",
        "**Key Insights:**\n",
        "- Higher loan grades (F, G) have significantly higher default rates\n",
        "- Loan-to-income ratio is the strongest predictor of default\n",
        "- High interest rate loans (>15%) show 58% default rate\n",
        "\n",
        "**Model Performance:**\n",
        "- Random Forest achieved 93%+ accuracy\n"
      ]
    }
  ],
  "metadata": {
    "kernelspec": {
      "display_name": "base",
      "language": "python",
      "name": "python3"
    },
    "language_info": {
      "codemirror_mode": {
        "name": "ipython",
        "version": 3
      },
      "file_extension": ".py",
      "mimetype": "text/x-python",
      "name": "python",
      "nbconvert_exporter": "python",
      "pygments_lexer": "ipython3",
      "version": "3.12.11"
    }
  },
  "nbformat": 4,
  "nbformat_minor": 4
}
